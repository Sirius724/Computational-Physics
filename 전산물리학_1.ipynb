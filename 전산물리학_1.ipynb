{
  "nbformat": 4,
  "nbformat_minor": 0,
  "metadata": {
    "colab": {
      "name": "전산물리학 1",
      "provenance": [],
      "collapsed_sections": [],
      "authorship_tag": "ABX9TyPmtlezaYmoWkarS2AH7kzU",
      "include_colab_link": true
    },
    "kernelspec": {
      "name": "python3",
      "display_name": "Python 3"
    },
    "language_info": {
      "name": "python"
    }
  },
  "cells": [
    {
      "cell_type": "markdown",
      "metadata": {
        "id": "view-in-github",
        "colab_type": "text"
      },
      "source": [
        "<a href=\"https://colab.research.google.com/github/Sirius724/Computational-Physics/blob/main/%EC%A0%84%EC%82%B0%EB%AC%BC%EB%A6%AC%ED%95%99_1.ipynb\" target=\"_parent\"><img src=\"https://colab.research.google.com/assets/colab-badge.svg\" alt=\"Open In Colab\"/></a>"
      ]
    },
    {
      "cell_type": "markdown",
      "source": [
        "# 수열 합, 팩토리얼 연습"
      ],
      "metadata": {
        "id": "s9gP1XJmHKhM"
      }
    },
    {
      "cell_type": "code",
      "source": [
        "sum = 0\n",
        "for i in range(10):\n",
        "    sum += (i+1) \n",
        "\n",
        "print(sum)"
      ],
      "metadata": {
        "colab": {
          "base_uri": "https://localhost:8080/"
        },
        "id": "hSrF_aEPHTTL",
        "outputId": "a6cc77ba-7270-455f-dfec-3a3a598f2321"
      },
      "execution_count": null,
      "outputs": [
        {
          "output_type": "stream",
          "name": "stdout",
          "text": [
            "45\n"
          ]
        }
      ]
    },
    {
      "cell_type": "code",
      "source": [
        "factorial = 1\n",
        "for i in range(10):\n",
        "    factorial *= (i+1)\n",
        "\n",
        "print(factorial) "
      ],
      "metadata": {
        "colab": {
          "base_uri": "https://localhost:8080/"
        },
        "id": "lE9nZrWzHi-3",
        "outputId": "012114a8-19db-4a5f-c7b8-bc9f8f43ab9c"
      },
      "execution_count": null,
      "outputs": [
        {
          "output_type": "stream",
          "name": "stdout",
          "text": [
            "3628800\n"
          ]
        }
      ]
    },
    {
      "cell_type": "markdown",
      "source": [
        "# 간단한 적분 계산"
      ],
      "metadata": {
        "id": "QgoZ_uj0H3yE"
      }
    },
    {
      "cell_type": "code",
      "source": [
        "# 반지름이 2인 원의 넓이 계산\n",
        "# x^2 + y^2 = R^2 의 x>=0, y>=0 인 영역을 계산 후 4배를 한다.\n",
        "\n",
        "import math \n",
        "import numpy     \n",
        "\n",
        "r = float(input(\"Enter the radius of Circle : \"))\n",
        "\n",
        "for i in range(-1,-8,-1): #dx간격을 10^(-i)으로 각각으로 계산하면서 근사값을 체크해본다\n",
        "    sum = 0\n",
        "    dx = 10**i\n",
        "    X = numpy.arange(0,r,dx)\n",
        "    for x in X:\n",
        "        sum = sum + math.sqrt(r**2 - x*x) * dx\n",
        "\n",
        "\n",
        "    area = 4*sum\n",
        "    print(\"%5.1e    %.5f\\n\"%(dx,area))\n",
        "\n",
        "print(\"Exact original area : %.5f\"%(math.pi*r**2))"
      ],
      "metadata": {
        "colab": {
          "base_uri": "https://localhost:8080/"
        },
        "id": "7fCkdbUlIVGs",
        "outputId": "4d89f8a1-8b5d-4881-db72-92f5ebe3de18"
      },
      "execution_count": null,
      "outputs": [
        {
          "output_type": "stream",
          "name": "stdout",
          "text": [
            "Enter the radius of Circle : 5\n",
            "1.0e-01    79.45671\n",
            "\n",
            "1.0e-02    78.63719\n",
            "\n",
            "1.0e-03    78.54973\n",
            "\n",
            "1.0e-04    78.54081\n",
            "\n",
            "1.0e-05    78.53992\n",
            "\n",
            "1.0e-06    78.53983\n",
            "\n",
            "1.0e-07    78.53982\n",
            "\n",
            "Exact original area : 78.53982\n"
          ]
        }
      ]
    },
    {
      "cell_type": "markdown",
      "source": [
        "# 복소수 계산 "
      ],
      "metadata": {
        "id": "qOsXM0PUL_n4"
      }
    },
    {
      "cell_type": "code",
      "source": [
        "a = float(input(\"a : \"))\n",
        "b = float(input(\"b : \"))\n",
        "c = float(input(\"c : \"))\n",
        "d = float(input(\"d : \"))\n",
        "n = int(input(\"n : \"))\n",
        "\n",
        "z1 = [a,b]; z2 = [c,d]; zplus = []; zmulti = []; zdivide = []; zminus=[]; zn = []\n",
        "\n",
        "def plus(zz,zzz):\n",
        "    real = zz[0]+zzz[0];    imagine = zz[1]+zzz[1];    zplus1 = [real,imagine]\n",
        "    return zplus1\n",
        "\n",
        "def minus(zz,zzz):\n",
        "    real = zz[0]-zzz[0];    imagine = zz[1]-zzz[1];    zminus1 = [real,imagine]\n",
        "    return zminus1\n",
        "\n",
        "def multi(zz,zzz):\n",
        "    real = zz[0]*zzz[0]-zz[1]*zzz[1];    imagine = zz[1]*zz[0]+zz[0]*zzz[1]\n",
        "    zmulti1 = [real, imagine]\n",
        "    return zmulti1\n",
        "\n",
        "def divide(zz,zzz):\n",
        "    real = 1/(zzz[0]**2+zzz[1]**2)*(zz[0]*zzz[0]+zz[1]*zzz[1]);    imagine = 1/(zzz[0]**2+zzz[1]**2)*(-zz[0]*zz[1]+zz[1]*zzz[0])\n",
        "    zdivide1 = [real,imagine]\n",
        "    return zdivide1\n",
        "\n",
        "print(f\"z1 + z2 = {plus(z1,z2)[0]}+{plus(z1,z2)[1]}i\")\n",
        "\n",
        "print(f\"z1 - z2 = {minus(z1,z2)[0]}+{minus(z1,z2)[1]}i\")\n",
        "\n",
        "print(f\"z1 * z2 = {multi(z1,z2)[0]}+{multi(z1,z2)[1]}i\")\n",
        "\n",
        "print(f\"z1 / z2 = {divide(z1,z2)[0]}+{divide(z1,z2)[1]}i\")\n",
        "\n",
        "zn = z1\n",
        "for i in range(n):\n",
        "    zn = multi(z1,zn)\n",
        "\n",
        "print(f\"z1**n = {zn[0]}+{zn[1]}i\")\n",
        "\n"
      ],
      "metadata": {
        "colab": {
          "base_uri": "https://localhost:8080/"
        },
        "id": "Jmx3J1vJM7ym",
        "outputId": "04a013e3-d013-47be-e0e2-6959edb00275"
      },
      "execution_count": 36,
      "outputs": [
        {
          "output_type": "stream",
          "name": "stdout",
          "text": [
            "a : 1\n",
            "b : 1\n",
            "c : 1\n",
            "d : 1\n",
            "n : 1\n",
            "z1 + z2 = 2.0+2.0i\n",
            "z1 - z2 = 0.0+0.0i\n",
            "z1 * z2 = 0.0+2.0i\n",
            "z1 / z2 = 1.0+0.0i\n",
            "z1**n = 0.0+2.0i\n"
          ]
        }
      ]
    },
    {
      "cell_type": "code",
      "source": [
        ""
      ],
      "metadata": {
        "id": "Gqisi-WPV_f2"
      },
      "execution_count": null,
      "outputs": []
    },
    {
      "cell_type": "code",
      "source": [
        "\"\""
      ],
      "metadata": {
        "id": "qDRi1e4MUm0_"
      },
      "execution_count": null,
      "outputs": []
    }
  ]
}