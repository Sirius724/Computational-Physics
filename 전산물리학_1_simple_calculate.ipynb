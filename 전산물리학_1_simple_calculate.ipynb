{
  "nbformat": 4,
  "nbformat_minor": 0,
  "metadata": {
    "colab": {
      "name": "전산물리학 1 - simple calculate",
      "provenance": [],
      "collapsed_sections": [],
      "include_colab_link": true
    },
    "kernelspec": {
      "name": "python3",
      "display_name": "Python 3"
    },
    "language_info": {
      "name": "python"
    }
  },
  "cells": [
    {
      "cell_type": "markdown",
      "metadata": {
        "id": "view-in-github",
        "colab_type": "text"
      },
      "source": [
        "<a href=\"https://colab.research.google.com/github/Sirius724/Computational-Physics/blob/main/%EC%A0%84%EC%82%B0%EB%AC%BC%EB%A6%AC%ED%95%99_1_simple_calculate.ipynb\" target=\"_parent\"><img src=\"https://colab.research.google.com/assets/colab-badge.svg\" alt=\"Open In Colab\"/></a>"
      ]
    },
    {
      "cell_type": "markdown",
      "source": [
        "# 수열 합, 팩토리얼 연습"
      ],
      "metadata": {
        "id": "s9gP1XJmHKhM"
      }
    },
    {
      "cell_type": "code",
      "source": [
        "sum = 0\n",
        "for i in range(10):\n",
        "    sum += (i+1) \n",
        "\n",
        "print(sum)"
      ],
      "metadata": {
        "colab": {
          "base_uri": "https://localhost:8080/"
        },
        "id": "hSrF_aEPHTTL",
        "outputId": "a6cc77ba-7270-455f-dfec-3a3a598f2321"
      },
      "execution_count": null,
      "outputs": [
        {
          "output_type": "stream",
          "name": "stdout",
          "text": [
            "45\n"
          ]
        }
      ]
    },
    {
      "cell_type": "code",
      "source": [
        "factorial = 1\n",
        "for i in range(10):\n",
        "    factorial *= (i+1)\n",
        "\n",
        "print(factorial) "
      ],
      "metadata": {
        "colab": {
          "base_uri": "https://localhost:8080/"
        },
        "id": "lE9nZrWzHi-3",
        "outputId": "012114a8-19db-4a5f-c7b8-bc9f8f43ab9c"
      },
      "execution_count": null,
      "outputs": [
        {
          "output_type": "stream",
          "name": "stdout",
          "text": [
            "3628800\n"
          ]
        }
      ]
    },
    {
      "cell_type": "markdown",
      "source": [
        "# 간단한 적분 계산"
      ],
      "metadata": {
        "id": "QgoZ_uj0H3yE"
      }
    },
    {
      "cell_type": "code",
      "source": [
        "import math\n",
        "import numpy\n",
        "import matplotlib\n",
        "import matplotlib.pyplot as plt\n",
        "\n",
        "r = 1\n",
        "dx = 1/100\n",
        "X = numpy.arange(0,r+dx,dx)\n",
        "Y = []\n",
        "for x in X:\n",
        "        Y.append(math.sqrt(r**2 - x*x))\n",
        "\n",
        "plt.figure(figsize=(5,5))\n",
        "plt.xlim(0,1); plt.ylim(0,1)\n",
        "plt.plot(X,Y)\n",
        "\n",
        "plt.show()"
      ],
      "metadata": {
        "colab": {
          "base_uri": "https://localhost:8080/",
          "height": 324
        },
        "id": "jh4pws1xdt0M",
        "outputId": "d2f744dd-b0e3-45d2-a9e5-6db26c6492e0"
      },
      "execution_count": null,
      "outputs": [
        {
          "output_type": "display_data",
          "data": {
            "image/png": "[encoded data removed]",
            "text/plain": [
              "<Figure size 360x360 with 1 Axes>"
            ]
          },
          "metadata": {
            "needs_background": "light"
          }
        }
      ]
    },
    {
      "cell_type": "code",
      "source": [
        ""
      ],
      "metadata": {
        "id": "HvSe6Oc3d2zg"
      },
      "execution_count": null,
      "outputs": []
    },
    {
      "cell_type": "code",
      "source": [
        "# 반지름이 2인 원의 넓이 계산\n",
        "# x^2 + y^2 = R^2 의 x>=0, y>=0 인 영역을 계산 후 4배를 한다.\n",
        "\n",
        "import math \n",
        "import numpy     \n",
        "\n",
        "r = float(input(\"Enter the radius of Circle : \"))\n",
        "\n",
        "for i in range(-1,-8,-1): #dx간격을 10^(-i)으로 각각으로 계산하면서 근사값을 체크해본다\n",
        "    sum = 0\n",
        "    dx = 10**i\n",
        "    X = numpy.arange(0,r,dx)\n",
        "    for x in X:\n",
        "        sum = sum + (math.sqrt(r**2 - x*x)+math.sqrt(r**2 - (x+dx)*(x+dx)))/2 * dx\n",
        "\n",
        "    area = 4*sum\n",
        "    print(\"%5.1e    %.5f\\n\"%(dx,area))\n",
        "\n",
        "print(\"Exact original area : %.5f\"%(math.pi*r**2))\n"
      ],
      "metadata": {
        "colab": {
          "base_uri": "https://localhost:8080/"
        },
        "id": "7fCkdbUlIVGs",
        "outputId": "66f56d22-2690-452f-af10-903d13dd10fd"
      },
      "execution_count": null,
      "outputs": [
        {
          "output_type": "stream",
          "name": "stdout",
          "text": [
            "Enter the radius of Circle : 1\n",
            "1.0e-01    3.10452\n",
            "\n",
            "1.0e-02    3.14042\n",
            "\n",
            "1.0e-03    3.14156\n",
            "\n",
            "1.0e-04    3.14159\n",
            "\n",
            "1.0e-05    3.14159\n",
            "\n",
            "1.0e-06    3.14159\n",
            "\n",
            "1.0e-07    3.14159\n",
            "\n",
            "Exact original area : 3.14159\n"
          ]
        }
      ]
    },
    {
      "cell_type": "code",
      "source": [
        "# 반지름이 2인 원의 넓이 계산\n",
        "# x^2 + y^2 = R^2 의 x>=0, y>=0 인 영역을 계산 후 4배를 한다.\n",
        "\n",
        "import math \n",
        "import numpy     \n",
        "\n",
        "r = float(input(\"Enter the radius of Circle : \"))\n",
        "sum = 0\n",
        "dx = 10**-4\n",
        "X = numpy.arange(0,r,dx)\n",
        "for x in X:\n",
        "    sum = sum + (math.sqrt(r**2 - x*x)+math.sqrt(r**2 - (x+dx)*(x+dx)))/2 * dx\n",
        "\n",
        "area = 4*sum\n",
        "print(\"%5.1e    %.5f\\n\"%(dx,area))\n",
        "\n",
        "print(\"Exact original area : %.5f\"%(math.pi*r**2))"
      ],
      "metadata": {
        "colab": {
          "base_uri": "https://localhost:8080/"
        },
        "id": "hwbbqAgVkten",
        "outputId": "82bf5c90-9ac6-4fdd-ddd6-652a075af0f3"
      },
      "execution_count": null,
      "outputs": [
        {
          "output_type": "stream",
          "name": "stdout",
          "text": [
            "Enter the radius of Circle : 1\n",
            "1.0e-04    3.14159\n",
            "\n",
            "Exact original area : 3.14159\n"
          ]
        }
      ]
    },
    {
      "cell_type": "markdown",
      "source": [
        "# 복소수 계산 "
      ],
      "metadata": {
        "id": "qOsXM0PUL_n4"
      }
    },
    {
      "cell_type": "code",
      "source": [
        "a = float(input(\"a : \"))\n",
        "b = float(input(\"b : \"))\n",
        "c = float(input(\"c : \"))\n",
        "d = float(input(\"d : \"))\n",
        "n = int(input(\"n : \"))\n",
        "\n",
        "z1 = [a,b]; z2 = [c,d]; zplus = []; zmulti = []; zdivide = []; zminus=[]; zn = []\n",
        "\n",
        "def plus(zz,zzz):\n",
        "    real = zz[0]+zzz[0];    imagine = zz[1]+zzz[1];    zplus1 = [real,imagine]\n",
        "    return zplus1\n",
        "\n",
        "def minus(zz,zzz):\n",
        "    real = zz[0]-zzz[0];    imagine = zz[1]-zzz[1];    zminus1 = [real,imagine]\n",
        "    return zminus1\n",
        "\n",
        "def multi(zz,zzz):\n",
        "    real = zz[0]*zzz[0]-zz[1]*zzz[1];    imagine = zz[1]*zz[0]+zz[0]*zzz[1]\n",
        "    zmulti1 = [real, imagine]\n",
        "    return zmulti1\n",
        "\n",
        "def divide(zz,zzz):\n",
        "    real = 1/(zzz[0]**2+zzz[1]**2)*(zz[0]*zzz[0]+zz[1]*zzz[1]);    imagine = 1/(zzz[0]**2+zzz[1]**2)*(-zz[0]*zz[1]+zz[1]*zzz[0])\n",
        "    zdivide1 = [real,imagine]\n",
        "    return zdivide1\n",
        "\n",
        "print(f\"z1 + z2 = {plus(z1,z2)[0]}+{plus(z1,z2)[1]}i\")\n",
        "\n",
        "print(f\"z1 - z2 = {minus(z1,z2)[0]}+{minus(z1,z2)[1]}i\")\n",
        "\n",
        "print(f\"z1 * z2 = {multi(z1,z2)[0]}+{multi(z1,z2)[1]}i\")\n",
        "\n",
        "print(f\"z1 / z2 = {divide(z1,z2)[0]}+{divide(z1,z2)[1]}i\")\n",
        "\n",
        "zn = z1\n",
        "for i in range(n):\n",
        "    zn = multi(z1,zn)\n",
        "\n",
        "print(f\"z1**n = {zn[0]}+{zn[1]}i\")\n",
        "\n"
      ],
      "metadata": {
        "colab": {
          "base_uri": "https://localhost:8080/"
        },
        "id": "Jmx3J1vJM7ym",
        "outputId": "04a013e3-d013-47be-e0e2-6959edb00275"
      },
      "execution_count": null,
      "outputs": [
        {
          "output_type": "stream",
          "name": "stdout",
          "text": [
            "a : 1\n",
            "b : 1\n",
            "c : 1\n",
            "d : 1\n",
            "n : 1\n",
            "z1 + z2 = 2.0+2.0i\n",
            "z1 - z2 = 0.0+0.0i\n",
            "z1 * z2 = 0.0+2.0i\n",
            "z1 / z2 = 1.0+0.0i\n",
            "z1**n = 0.0+2.0i\n"
          ]
        }
      ]
    },
    {
      "cell_type": "code",
      "source": [
        ""
      ],
      "metadata": {
        "id": "Gqisi-WPV_f2"
      },
      "execution_count": null,
      "outputs": []
    },
    {
      "cell_type": "code",
      "source": [
        ""
      ],
      "metadata": {
        "id": "qDRi1e4MUm0_"
      },
      "execution_count": null,
      "outputs": []
    }
  ]
}