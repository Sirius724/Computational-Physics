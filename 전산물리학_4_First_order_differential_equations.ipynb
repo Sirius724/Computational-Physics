{
  "nbformat": 4,
  "nbformat_minor": 0,
  "metadata": {
    "colab": {
      "name": "전산물리학 4 - First-order differential equations ",
      "provenance": [],
      "collapsed_sections": [],
      "authorship_tag": "ABX9TyPI7zLwSOfj1gdoOznoqxHv",
      "include_colab_link": true
    },
    "kernelspec": {
      "name": "python3",
      "display_name": "Python 3"
    },
    "language_info": {
      "name": "python"
    }
  },
  "cells": [
    {
      "cell_type": "markdown",
      "metadata": {
        "id": "view-in-github",
        "colab_type": "text"
      },
      "source": [
        "<a href=\"https://colab.research.google.com/github/Sirius724/Computational-Physics/blob/main/%EC%A0%84%EC%82%B0%EB%AC%BC%EB%A6%AC%ED%95%99_4_First_order_differential_equations.ipynb\" target=\"_parent\"><img src=\"https://colab.research.google.com/assets/colab-badge.svg\" alt=\"Open In Colab\"/></a>"
      ]
    },
    {
      "cell_type": "code",
      "source": [
        "from google.colab import drive\n",
        "drive.mount('/content/drive')\n",
        "path = \"/content/drive/MyDrive/Colab Notebooks/전산 물리학\"\n",
        "data = \"/content/drive/MyDrive/Colab Notebooks/전산 물리학/data\"\n",
        "import os\n",
        "import numpy as np ; import math as mt\n",
        "import matplotlib\n",
        "import matplotlib.pyplot as plt\n",
        "%matplotlib inline\n",
        "\n",
        "if not os.path.isdir(data): \n",
        "    os.makedirs(data)"
      ],
      "metadata": {
        "colab": {
          "base_uri": "https://localhost:8080/"
        },
        "id": "rxnunhz4-dN0",
        "outputId": "ad10ccc4-c13a-4ab3-e10c-c8c992a11b37"
      },
      "execution_count": 37,
      "outputs": [
        {
          "output_type": "stream",
          "name": "stdout",
          "text": [
            "Drive already mounted at /content/drive; to attempt to forcibly remount, call drive.mount(\"/content/drive\", force_remount=True).\n"
          ]
        }
      ]
    },
    {
      "cell_type": "markdown",
      "source": [
        "# Euler method\n"
      ],
      "metadata": {
        "id": "BNUsNfpf_c2W"
      }
    },
    {
      "cell_type": "markdown",
      "source": [
        "### Solve follow as diffential equation\n",
        "\n",
        "$${dy \\over dx} = {y \\over x} + x^2 $$"
      ],
      "metadata": {
        "id": "AjGnF6DCIkf3"
      }
    },
    {
      "cell_type": "code",
      "execution_count": 127,
      "metadata": {
        "id": "qpnAu_q3-LQN"
      },
      "outputs": [],
      "source": [
        "import math as mt\n",
        "import numpy as np\n",
        "import os\n",
        "\n",
        "dx = 1/1000 # 계산 간격 지정\n",
        "X = np.arange(1,50,dx) # x 좌표 범위 지정\n",
        "Y = np.zeros(len(X)); # Y, fx 값 리스트 생성\n",
        "fx =np.zeros(len(X))\n",
        "Y[0] = 1 # Y값의 초기 설정\n",
        "\n",
        "def f(x,y): # 미분 방정식 대입\n",
        "    fx1 = y/x+x**2\n",
        "    return fx1\n",
        "\n",
        "def exact(x): # 해석적 결과 비교 함수\n",
        "    ex = (pow(x,3)+x)/2.0\n",
        "    return ex\n",
        "\n",
        "for i in range(len(X)-1): # Euler equation\n",
        "    Y[i+1]=(Y[i]+f(X[i],Y[i])*dx)\n",
        "    #print(Y[i+1])\n",
        "\n",
        "for i in range(len(X)): # 해석적 fx 값 구하기\n",
        "    fx[i]= exact(X[i])\n",
        "\n",
        "save = open(f\"{data}/Euler method.txt\",\"w+\")\n",
        "\n",
        "for i in range(len(X)):\n",
        "    save.write(f\"{X[i]:.4f}    {Y[i]:.4f}    {fx[i]:.4f}\\n\")\n",
        "\n",
        "save.close()"
      ]
    },
    {
      "cell_type": "code",
      "source": [
        "print(Y[10],fx[10])"
      ],
      "metadata": {
        "colab": {
          "base_uri": "https://localhost:8080/"
        },
        "id": "AyoZiBl5Z2H4",
        "outputId": "782e8a81-e771-465a-e6b4-27d68d2c9f80"
      },
      "execution_count": 128,
      "outputs": [
        {
          "output_type": "stream",
          "name": "stdout",
          "text": [
            "1.0201353600448357 1.0201504999999977\n"
          ]
        }
      ]
    },
    {
      "cell_type": "code",
      "source": [
        "import pandas as pd\n",
        "text_test = pd.read_csv(\"%s/Euler method.txt\"%data, sep='    ',header=None,engine=\"python\")\n",
        "print(text_test)\n",
        "%matplotlib inline\n",
        "plt.plot(text_test[0],text_test[1], c = \"black\",linewidth = 5)\n",
        "plt.plot(text_test[0],text_test[2], linestyle = \"dashed\", c = \"r\", linewidth = 3)"
      ],
      "metadata": {
        "colab": {
          "base_uri": "https://localhost:8080/",
          "height": 540
        },
        "id": "hmVlKJgvBaeu",
        "outputId": "4cb14073-947e-4e89-d585-eff22310a68e"
      },
      "execution_count": 129,
      "outputs": [
        {
          "output_type": "stream",
          "name": "stdout",
          "text": [
            "            0           1           2\n",
            "0       1.000      1.0000      1.0000\n",
            "1       1.001      1.0020      1.0020\n",
            "2       1.002      1.0040      1.0040\n",
            "3       1.003      1.0060      1.0060\n",
            "4       1.004      1.0080      1.0080\n",
            "...       ...         ...         ...\n",
            "48995  49.995  62502.5753  62506.2494\n",
            "48996  49.996  62506.3250  62509.9992\n",
            "48997  49.997  62510.0748  62513.7492\n",
            "48998  49.998  62513.8248  62517.4993\n",
            "48999  49.999  62517.5749  62521.2496\n",
            "\n",
            "[49000 rows x 3 columns]\n"
          ]
        },
        {
          "output_type": "execute_result",
          "data": {
            "text/plain": [
              "[<matplotlib.lines.Line2D at 0x7f99643a7090>]"
            ]
          },
          "metadata": {},
          "execution_count": 129
        },
        {
          "output_type": "display_data",
          "data": {
            "image/png": "[encoded data removed]",
            "text/plain": [
              "<Figure size 432x288 with 1 Axes>"
            ]
          },
          "metadata": {
            "needs_background": "light"
          }
        }
      ]
    },
    {
      "cell_type": "markdown",
      "source": [
        "# 2nd-order Runge-Kutta method"
      ],
      "metadata": {
        "id": "Syfp9EOsEThv"
      }
    },
    {
      "cell_type": "code",
      "source": [
        "dx = 1/1000\n",
        "X = np.arange(1,51,dx)\n",
        "Y,F = np.zeros(len(X)), np.zeros(len(X))\n",
        "\n",
        "def exact(x):\n",
        "    ex = (pow(x,3)+x)/2.0\n",
        "    return ex\n",
        "\n",
        "def f(x,y): # 미분 방정식 대입\n",
        "    fx1 = y/x+x**2\n",
        "    return fx1\n",
        "\n",
        "Y[0]=1.0\n",
        "\n",
        "for i in range(len(X)-1):\n",
        "    k1 = dx*f(X[i],Y[i]) # k1 =dx*f(xn,yn)\n",
        "    k2 = dx*f(X[i+1],Y[i]+dx) # k2 = dx*f(xn+dx,yn+k1)\n",
        "    Y[i+1]= Y[i]+(k1+k2)/2.0 \n",
        "\n",
        "for i in range(len(X)):\n",
        "    F[i]=exact(X[i])\n",
        "\n",
        "save = open(f\"{data}/runge_2nd.txt\",\"w+\")\n",
        "\n",
        "for i in range(len(X)):\n",
        "    save.write(f\"{X[i]:.4f}\\t{Y[i]:.4f}\\t{F[i]:.4f}\\n\")\n",
        "\n",
        "save.close()\n"
      ],
      "metadata": {
        "id": "MffW9ytYEZsh"
      },
      "execution_count": 141,
      "outputs": []
    },
    {
      "cell_type": "code",
      "source": [
        "import pandas as pd\n",
        "text_test = pd.read_csv(\"%s/runge_2nd.txt\"%data, sep='\\t',header=None,engine=\"python\")\n",
        "#print(text_test)\n",
        "%matplotlib inline\n",
        "\n",
        "plt.plot(text_test[0],text_test[1], c = \"black\",linewidth = 5)\n",
        "plt.plot(text_test[0],text_test[2], linestyle = \"dashed\", c = \"r\", linewidth = 3)"
      ],
      "metadata": {
        "colab": {
          "base_uri": "https://localhost:8080/",
          "height": 283
        },
        "id": "lP3ZDHQoQzu1",
        "outputId": "a3695f40-8af4-497c-d910-9591ee3e10ae"
      },
      "execution_count": 142,
      "outputs": [
        {
          "output_type": "execute_result",
          "data": {
            "text/plain": [
              "[<matplotlib.lines.Line2D at 0x7f996d1b96d0>]"
            ]
          },
          "metadata": {},
          "execution_count": 142
        },
        {
          "output_type": "display_data",
          "data": {
            "image/png": "[encoded data removed]",
            "text/plain": [
              "<Figure size 432x288 with 1 Axes>"
            ]
          },
          "metadata": {
            "needs_background": "light"
          }
        }
      ]
    },
    {
      "cell_type": "markdown",
      "source": [
        "## 4th-order Runge-Kutta method"
      ],
      "metadata": {
        "id": "yTSlqfvKRGyH"
      }
    },
    {
      "cell_type": "code",
      "source": [
        "dx = 1/100\n",
        "X = np.arange(1,51,dx)\n",
        "Y,F = np.zeros(len(X)), np.zeros(len(X))\n",
        "\n",
        "def exact(x):\n",
        "    ex = (pow(x,3)+x)/2.0\n",
        "    return ex\n",
        "\n",
        "def f(x,y): # 미분 방정식 대입\n",
        "    fx1 = y/x+x**2\n",
        "    return fx1\n",
        "\n",
        "Y[0]=1.0\n",
        "F[0]=exact(X[0])\n",
        "for i in range(len(X)-1):\n",
        "    k1 = dx*(Y[i]/X[i]+X[i]*X[i]) # k1 = dx*f(xn,yn)\n",
        "    k2 = dx*f(X[i]+dx/2,Y[i]+k1/2) # k2 = dx *f(xn+dx/2,yn+k1/2)\n",
        "    k3 = dx*f(X[i]+dx/2,Y[i]+k2/2) # k3 = dx *f(xn+dx/2,yn+k2/2)\n",
        "    k4 = dx*f(X[i]+dx,Y[i]+k3) # k4 = dx * f(xn+dx,yn+k3)\n",
        "    Y[i+1]= Y[i]+(k1+2*k2+2*k3+k4)/6\n",
        "    F[i+1]=exact(X[i+1])\n",
        "\n",
        "save = open(f\"{data}/runge_4th.txt\",\"w+\")\n",
        "\n",
        "for i in range(len(X)):\n",
        "    save.write(f\"{X[i]:.4f}\\t{Y[i]:.4f}\\t{F[i]:.4f}\\n\")\n",
        "\n",
        "save.close()"
      ],
      "metadata": {
        "id": "Lb5QolJGRLDR"
      },
      "execution_count": 148,
      "outputs": []
    },
    {
      "cell_type": "code",
      "source": [
        "import pandas as pd\n",
        "text_test = pd.read_csv(\"%s/runge_4th.txt\"%data, sep='\\t',header=None,engine=\"python\")\n",
        "#print(text_test)\n",
        "%matplotlib inline\n",
        "\n",
        "plt.plot(text_test[0],text_test[1], c = \"black\",linewidth = 5)\n",
        "plt.plot(text_test[0],text_test[2], linestyle = \"dashed\", c = \"r\", linewidth = 3)"
      ],
      "metadata": {
        "colab": {
          "base_uri": "https://localhost:8080/",
          "height": 283
        },
        "id": "6lP3hkj8TDSq",
        "outputId": "940c6419-6709-4d2d-de01-ccd1c0ef84ff"
      },
      "execution_count": 149,
      "outputs": [
        {
          "output_type": "execute_result",
          "data": {
            "text/plain": [
              "[<matplotlib.lines.Line2D at 0x7f996770cd90>]"
            ]
          },
          "metadata": {},
          "execution_count": 149
        },
        {
          "output_type": "display_data",
          "data": {
            "image/png": "[encoded data removed]",
            "text/plain": [
              "<Figure size 432x288 with 1 Axes>"
            ]
          },
          "metadata": {
            "needs_background": "light"
          }
        }
      ]
    },
    {
      "cell_type": "markdown",
      "source": [
        "$${dy \\over dx } = {2\\over x}y +{1\\over x^3} $$"
      ],
      "metadata": {
        "id": "EXg23rj9TIMk"
      }
    },
    {
      "cell_type": "code",
      "source": [
        "import math as mt\n",
        "import numpy as np\n",
        "import os\n",
        "\n",
        "dx = 1/1000 # 계산 간격 지정\n",
        "X = np.arange(1,5,dx) # x 좌표 범위 지정\n",
        "Y,F = np.zeros(len(X)), np.zeros(len(X)) \n",
        "\n",
        "Y[0] = 1/4 # Y값의 초기 설정\n",
        "\n",
        "def f(x,y): # 미분 방정식 대입\n",
        "    fx1 = 2/x*y + 1/x**3\n",
        "    return fx1\n",
        "\n",
        "def exact(x): # 해석적 결과 비교 함수\n",
        "    ex = -1/4*x**-2 + 1/2*x**2\n",
        "    return ex\n",
        "\n",
        "for i in range(len(X)-1): # Euler equation\n",
        "    Y[i+1]=(Y[i]+f(X[i],Y[i])*dx)\n",
        "\n",
        "for i in range(len(X)): # 해석적 fx 값 구하기\n",
        "    fx[i]= exact(X[i])\n",
        "\n",
        "save = open(f\"{data}/Euler method.txt\",\"w+\")\n",
        "\n",
        "for i in range(len(X)):\n",
        "    save.write(f\"{X[i]:.4f}\\t{Y[i]:.4f}\\t{fx[i]:.4f}\\n\")\n",
        "\n",
        "save.close()\n",
        "\n",
        "import pandas as pd\n",
        "text_test = pd.read_csv(\"%s/Euler method.txt\"%data, sep='\\t',header=None,engine=\"python\")\n",
        "#print(text_test)\n",
        "%matplotlib inline\n",
        "plt.plot(text_test[0],text_test[1], c = \"black\",linewidth = 5)\n",
        "plt.plot(text_test[0],text_test[2], linestyle = \"dashed\", c = \"r\", linewidth = 3)"
      ],
      "metadata": {
        "colab": {
          "base_uri": "https://localhost:8080/",
          "height": 283
        },
        "id": "0_ZfDZC6VgYm",
        "outputId": "bab48cee-f78d-4fd1-e093-b8e167346090"
      },
      "execution_count": 146,
      "outputs": [
        {
          "output_type": "execute_result",
          "data": {
            "text/plain": [
              "[<matplotlib.lines.Line2D at 0x7f996af21950>]"
            ]
          },
          "metadata": {},
          "execution_count": 146
        },
        {
          "output_type": "display_data",
          "data": {
            "image/png": "[encoded data removed]",
            "text/plain": [
              "<Figure size 432x288 with 1 Axes>"
            ]
          },
          "metadata": {
            "needs_background": "light"
          }
        }
      ]
    },
    {
      "cell_type": "code",
      "source": [
        ""
      ],
      "metadata": {
        "id": "GOTdtKV8WdSz"
      },
      "execution_count": null,
      "outputs": []
    }
  ]
}