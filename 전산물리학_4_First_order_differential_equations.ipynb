{
  "nbformat": 4,
  "nbformat_minor": 0,
  "metadata": {
    "colab": {
      "name": "전산물리학 4 - First-order differential equations ",
      "provenance": [],
      "collapsed_sections": [
        "AjGnF6DCIkf3"
      ],
      "toc_visible": true,
      "authorship_tag": "ABX9TyO6HYdSE4aempZ3O1qZ7niN",
      "include_colab_link": true
    },
    "kernelspec": {
      "name": "python3",
      "display_name": "Python 3"
    },
    "language_info": {
      "name": "python"
    }
  },
  "cells": [
    {
      "cell_type": "markdown",
      "metadata": {
        "id": "view-in-github",
        "colab_type": "text"
      },
      "source": [
        "<a href=\"https://colab.research.google.com/github/Sirius724/Computational-Physics/blob/main/%EC%A0%84%EC%82%B0%EB%AC%BC%EB%A6%AC%ED%95%99_4_First_order_differential_equations.ipynb\" target=\"_parent\"><img src=\"https://colab.research.google.com/assets/colab-badge.svg\" alt=\"Open In Colab\"/></a>"
      ]
    },
    {
      "cell_type": "code",
      "source": [
        "from google.colab import drive\n",
        "drive.mount('/content/drive')\n",
        "path = \"/content/drive/MyDrive/Colab Notebooks/전산 물리학\"\n",
        "data = \"/content/drive/MyDrive/Colab Notebooks/전산 물리학/data\"\n",
        "import os\n",
        "import numpy as np ; import math as mt\n",
        "import matplotlib\n",
        "import matplotlib.pyplot as plt\n",
        "%matplotlib inline\n",
        "\n",
        "if not os.path.isdir(data): \n",
        "    os.makedirs(data)"
      ],
      "metadata": {
        "colab": {
          "base_uri": "https://localhost:8080/"
        },
        "id": "rxnunhz4-dN0",
        "outputId": "479d566c-d4af-4da2-80e4-0153f4221227"
      },
      "execution_count": 3,
      "outputs": [
        {
          "output_type": "stream",
          "name": "stdout",
          "text": [
            "Mounted at /content/drive\n"
          ]
        }
      ]
    },
    {
      "cell_type": "markdown",
      "source": [
        "## Euler method\n"
      ],
      "metadata": {
        "id": "BNUsNfpf_c2W"
      }
    },
    {
      "cell_type": "markdown",
      "source": [
        "### Solve follow as diffential equation\n",
        "\n",
        "$${dy \\over dx} = {y \\over x} + x^2 $$"
      ],
      "metadata": {
        "id": "AjGnF6DCIkf3"
      }
    },
    {
      "cell_type": "code",
      "execution_count": null,
      "metadata": {
        "id": "qpnAu_q3-LQN"
      },
      "outputs": [],
      "source": [
        "import math as mt\n",
        "import numpy as np\n",
        "import os\n",
        "\n",
        "dx = 1 # 계산 간격 지정\n",
        "X = np.arange(1,51,dx) # x 좌표 범위 지정\n",
        "Y, fx = np.zeros(len(X)),np.zeros(len(X)) # Y, fx 값 리스트 생성\n",
        "\n",
        "Y[0] = 1 # Y값의 초기 설정\n",
        "\n",
        "save = open(f\"{data}/Euler.txt\",\"w+\")\n",
        "\n",
        "def f(x,y): # 미분 방정식 대입\n",
        "    fx1 = y/x+x**2\n",
        "    return fx1\n",
        "\n",
        "def exact(x): # 해석적 결과 비교 함수\n",
        "    ex = (pow(x,3)+x)/2.0\n",
        "    return ex\n",
        "\n",
        "\n",
        "fx[0] = exact(X[0])\n",
        "save.write(f\"{X[0]:.4f}\\t{Y[0]:.4f}\\t{fx[0]:.4f}\\n\")\n",
        "for i in range(len(X)-1): # Euler equation\n",
        "    Y[i+1]=(Y[i]+f(X[i],Y[i])*dx)\n",
        "    fx[i+1]=exact(X[i+1])\n",
        "    save.write(f\"{X[i+1]:.4f}\\t{Y[i+1]:.4f}\\t{fx[i+1]:.4f}\\n\")\n",
        "\n",
        "save.close()"
      ]
    },
    {
      "cell_type": "markdown",
      "source": [
        "## 2nd-order Runge-Kutta method"
      ],
      "metadata": {
        "id": "Syfp9EOsEThv"
      }
    },
    {
      "cell_type": "code",
      "source": [
        "dx = 1\n",
        "X = np.arange(1,51,dx)\n",
        "Y,F = np.zeros(len(X)), np.zeros(len(X))\n",
        "\n",
        "def exact(x):\n",
        "    ex = (pow(x,3)+x)/2.0\n",
        "    return ex\n",
        "\n",
        "def f(x,y): # 미분 방정식 대입\n",
        "    fx1 = y/x+x**2\n",
        "    return fx1\n",
        "\n",
        "Y[0]=1.0\n",
        "F[0]=f(X[0],Y[0])\n",
        "\n",
        "save = open(f\"{data}/runge_2nd.txt\",\"w+\")\n",
        "save.write(f\"{X[0]:.4f}\\t{Y[0]:.4f}\\t{F[0]:.4f}\\n\")\n",
        "\n",
        "for i in range(len(X)-1):\n",
        "    k1 = dx*f(X[i],Y[i]) # k1 =dx*f(xn,yn)\n",
        "    k2 = dx*f(X[i+1],Y[i]+dx) # k2 = dx*f(xn+dx,yn+k1)\n",
        "    Y[i+1]= Y[i]+(k1+k2)/2.0 \n",
        "    F[i+1]=exact(X[i+1])\n",
        "    save.write(f\"{X[i+1]:.4f}\\t{Y[i+1]:.4f}\\t{F[i+1]:.4f}\\n\")\n",
        "    \n",
        "save.close()"
      ],
      "metadata": {
        "id": "MffW9ytYEZsh"
      },
      "execution_count": null,
      "outputs": []
    },
    {
      "cell_type": "markdown",
      "source": [
        "## 4th-order Runge-Kutta method"
      ],
      "metadata": {
        "id": "yTSlqfvKRGyH"
      }
    },
    {
      "cell_type": "code",
      "source": [
        "dx = 1\n",
        "X = np.arange(1,51,dx)\n",
        "Y,F = np.zeros(len(X)), np.zeros(len(X))\n",
        "\n",
        "def exact(x):\n",
        "    ex = (pow(x,3)+x)/2.0\n",
        "    return ex\n",
        "\n",
        "def f(x,y): # 미분 방정식 대입\n",
        "    fx1 = y/x+x**2\n",
        "    return fx1\n",
        "\n",
        "Y[0]=1.0\n",
        "F[0]=exact(X[0])\n",
        "\n",
        "save = open(f\"{data}/runge_4th.txt\",\"w+\")\n",
        "save.write(f\"{X[0]:.4f}\\t{Y[0]:.4f}\\t{F[0]:.4f}\\n\")\n",
        "for i in range(len(X)-1):\n",
        "    k1 = dx*f(X[i],Y[i]) # k1 = dx*f(xn,yn)\n",
        "    k2 = dx*f(X[i]+dx/2,Y[i]+k1/2) # k2 = dx *f(xn+dx/2,yn+k1/2)\n",
        "    k3 = dx*f(X[i]+dx/2,Y[i]+k2/2) # k3 = dx *f(xn+dx/2,yn+k2/2)\n",
        "    k4 = dx*f(X[i]+dx,Y[i]+k3) # k4 = dx * f(xn+dx,yn+k3)\n",
        "    Y[i+1]= Y[i]+(k1+2*k2+2*k3+k4)/6\n",
        "    F[i+1]=exact(X[i+1])\n",
        "    save.write(f\"{X[i+1]:.4f}\\t{Y[i+1]:.4f}\\t{F[i+1]:.4f}\\n\")    \n",
        "\n",
        "save.close()"
      ],
      "metadata": {
        "id": "Lb5QolJGRLDR"
      },
      "execution_count": null,
      "outputs": []
    },
    {
      "cell_type": "markdown",
      "source": [
        "### Graph drawing\n",
        "- Using Matplotlib, Pandas library"
      ],
      "metadata": {
        "id": "0d0yP-XxOSpR"
      }
    },
    {
      "cell_type": "code",
      "source": [
        "import pandas as pd\n",
        "Euler = pd.read_csv(\"%s/Euler.txt\"%data, sep='\\t',header=None,engine=\"python\")\n",
        "runge_2nd = pd.read_csv(\"%s/runge_2nd.txt\"%data, sep='\\t',header=None,engine=\"python\")\n",
        "runge_4th = pd.read_csv(\"%s/runge_4th.txt\"%data, sep='\\t',header=None,engine=\"python\")\n",
        "#print(text_test)\n",
        "%matplotlib inline\n",
        "\n",
        "plt.xlim(20,50); plt.ylim(0,Euler[2][len(Euler[1])-1])\n",
        "plt.plot(Euler[0],Euler[1],label = \"Euler\",c='r')\n",
        "plt.plot(runge_2nd[0],runge_2nd[1],label = \"runge_2nd\",c=\"g\")\n",
        "plt.plot(runge_4th[0],runge_4th[1],label = \"runge_4th\",c=\"b\")\n",
        "plt.plot(Euler[0],Euler[2], label = \"exact\",linestyle=\"dotted\",c=\"black\", linewidth=4)\n",
        "plt.legend()"
      ],
      "metadata": {
        "colab": {
          "base_uri": "https://localhost:8080/",
          "height": 283
        },
        "id": "6lP3hkj8TDSq",
        "outputId": "06cce7f0-fc01-4359-9d96-184564983716"
      },
      "execution_count": null,
      "outputs": [
        {
          "output_type": "execute_result",
          "data": {
            "text/plain": [
              "<matplotlib.legend.Legend at 0x7f181c192910>"
            ]
          },
          "metadata": {},
          "execution_count": 94
        },
        {
          "output_type": "display_data",
          "data": {
            "image/png": "[encoded data removed]",
            "text/plain": [
              "<Figure size 432x288 with 1 Axes>"
            ]
          },
          "metadata": {
            "needs_background": "light"
          }
        }
      ]
    },
    {
      "cell_type": "markdown",
      "source": [
        "$${dy \\over dx } = {2\\over x}y +{1\\over x^3} $$"
      ],
      "metadata": {
        "id": "EXg23rj9TIMk"
      }
    },
    {
      "cell_type": "code",
      "source": [
        "import math as mt\n",
        "import numpy as np\n",
        "import os\n",
        "\n",
        "dx = 1/1000 # 계산 간격 지정\n",
        "X = np.arange(1,5,dx) # x 좌표 범위 지정\n",
        "Y,F = np.zeros(len(X)), np.zeros(len(X)) \n",
        "\n",
        "Y[0] = 1/4 # Y값의 초기 설정\n",
        "\n",
        "def f(x,y): # 미분 방정식 대입\n",
        "    fx1 = 2/x*y + 1/x**3\n",
        "    return fx1\n",
        "\n",
        "def exact(x): # 해석적 결과 비교 함수\n",
        "    ex = -1/4*x**-2 + 1/2*x**2\n",
        "    return ex\n",
        "\n",
        "for i in range(len(X)-1): # Euler equation\n",
        "    Y[i+1]=(Y[i]+f(X[i],Y[i])*dx)\n",
        "\n",
        "for i in range(len(X)): # 해석적 fx 값 구하기\n",
        "    F[i]= exact(X[i])\n",
        "\n",
        "save = open(f\"{data}/Euler method.txt\",\"w+\")\n",
        "\n",
        "for i in range(len(X)):\n",
        "    save.write(f\"{X[i]:.4f}\\t{Y[i]:.4f}\\t{F[i]:.4f}\\n\")\n",
        "\n",
        "save.close()\n",
        "\n",
        "import pandas as pd\n",
        "text_test = pd.read_csv(\"%s/Euler method.txt\"%data, sep='\\t',header=None,engine=\"python\")\n",
        "#print(text_test)\n",
        "%matplotlib inline\n",
        "plt.plot(text_test[0],text_test[1], c = \"black\",linewidth = 5)\n",
        "plt.plot(text_test[0],text_test[2], linestyle = \"dashed\", c = \"r\", linewidth = 3)"
      ],
      "metadata": {
        "colab": {
          "base_uri": "https://localhost:8080/",
          "height": 283
        },
        "id": "0_ZfDZC6VgYm",
        "outputId": "0f9f1402-e12b-451c-9ef5-dab684b55543"
      },
      "execution_count": null,
      "outputs": [
        {
          "output_type": "execute_result",
          "data": {
            "text/plain": [
              "[<matplotlib.lines.Line2D at 0x7f181a4f6510>]"
            ]
          },
          "metadata": {},
          "execution_count": 90
        },
        {
          "output_type": "display_data",
          "data": {
            "image/png": "[encoded data removed]",
            "text/plain": [
              "<Figure size 432x288 with 1 Axes>"
            ]
          },
          "metadata": {
            "needs_background": "light"
          }
        }
      ]
    },
    {
      "cell_type": "markdown",
      "source": [
        "## A system of first-order differential equation\n",
        "### 이거는 그냥 코드 적어놓기만 실제 함수는 찾아보고........."
      ],
      "metadata": {
        "id": "GOTdtKV8WdSz"
      }
    },
    {
      "cell_type": "code",
      "source": [
        "# Using Runge-kutta 4th order\n",
        "\n",
        "dx = 1\n",
        "X = np.arange(1,51,dx)\n",
        "Y,Z = np.zeros(len(X)), np.zeros(len(X))\n",
        "\n",
        "def exact(x,y,z): # Analystic exact function\n",
        "    ex = (pow(x,3)+x)/2.0  \n",
        "    return ex\n",
        "\n",
        "def f(x,y,z): # 미분 방정식 대입\n",
        "    fx = y/x+x**2\n",
        "    return fx\n",
        "\n",
        "def g(x,y,z): # 미분 방정식 대입\n",
        "    gx = y/x+x**2\n",
        "    return gx\n",
        "\n",
        "Y[0]= # y initial state  \n",
        "Z[0]= # z initial state\n",
        "\n",
        "save = open(f\"{data}/runge_4th.txt\",\"w+\")\n",
        "save.write(f\"{X[0]:.4f}\\t{Y[0]:.4f}\\t{Z[0]:.4f}\\n\")\n",
        "\n",
        "for i in range(len(X)-1):\n",
        "    k1 = dx*f(X[i],Y[i],Z[i]) # k1 = dx*f(xn,yn,zn)\n",
        "    l1 = dx*g(X[i],Y[i],Z[i]) # l1 = dx*f(xn,yn,zn)\n",
        "    k2 = dx*f(X[i]+dx/2,Y[i]+k1/2,Z[i]+l1/2) # k2 = dx *f(xn+dx/2,yn+k1/2,zn+l1/2)\n",
        "    l2 = dx*g(X[i]+dx/2,Y[i]+k1/2,Z[i]+l1/2) # l2 = dx *g(xn+dx/2,yn+k1/2,zn+l1/2)\n",
        "    k3 = dx*f(X[i]+dx/2,Y[i]+k2/2,Z[i]+l2/2) # k3 = dx *f(xn+dx/2,yn+k2/2,zn+l2/2)\n",
        "    l3 = dx*g(X[i]+dx/2,Y[i]+k2/2,Z[i]+l2/2) # l3 = dx *g(xn+dx/2,yn+k2/2,zn+l2/2)\n",
        "    k4 = dx*f(X[i]+dx,Y[i]+k3,Z[i]+l3) # k4 = dx * f(xn+dx,yn+k3,zn+l3)\n",
        "    l4 = dx*g(X[i]+dx,Y[i]+k3,Z[i]+l3) # l4 = dx * g(xn+dx,yn+k3,zn+l3)\n",
        "    Y[i+1]= Y[i]+(k1+2*k2+2*k3+k4)/6\n",
        "    Z[i+1]= Z[i]+(l1+2*l2+2*l3+l4)/6\n",
        "    save.write(f\"{X[i+1]:.4f}\\t{Y[i+1]:.4f}\\t{Z[i+1]:.4f}\\n\")    \n",
        "\n",
        "save.close()"
      ],
      "metadata": {
        "id": "S2OG1FdfUUME"
      },
      "execution_count": null,
      "outputs": []
    },
    {
      "cell_type": "markdown",
      "source": [
        "## Terminal Velocity"
      ],
      "metadata": {
        "id": "Gh3BjB3RbBvu"
      }
    },
    {
      "cell_type": "code",
      "source": [
        "dt = 1/50\n",
        "t = np.arange(0,1,dt)\n",
        "x,v = np.zeros(len(t)), np.zeros(len(t)) #Runge-Kutta\n",
        "x2,v2 = np.zeros(len(t)), np.zeros(len(t)) #Euler\n",
        "ex = np.zeros(len(t)) #Exact value\n",
        "m = 0.01\n",
        "mu = 0.05\n",
        "g = 9.8\n",
        "v[0] = v2[0] = ex[0]=20\n",
        "x[0] = x2[0] = 0\n",
        "\n",
        "\n",
        "def exact(t): # Analystic exact function\n",
        "    ext = (ex[0]+0.01*9.8/0.05)*mt.exp(-0.05/0.01*t)-0.01*9.8/0.05  \n",
        "    return ext\n",
        "\n",
        "def f(t,x,v): #x에 대한 식\n",
        "    fx = v\n",
        "    return fx\n",
        "\n",
        "def g(t,x,v): # v에 대한 식\n",
        "    gx = -9.8-0.05/0.01*v\n",
        "    return gx\n",
        "\n",
        "save = open(f\"{data}/velocity.txt\",\"w+\")\n",
        "save.write(f\"{t[0]:.4f}\\t{x[0]:.4f}\\t{v[0]:.4f}\\t{x2[0]:.4f}\\t{v2[0]:.4f}\\t{ex[0]:.4f}\\n\")    \n",
        "\n",
        "\n",
        "for i in range(len(t)-1):\n",
        "    k1 = dt*f(t[i],x[i],v[i]) # k1 = dx*f(xn,yn,zn)\n",
        "    l1 = dt*g(t[i],x[i],v[i]) # l1 = dx*f(xn,yn,zn)\n",
        "    k2 = dt*f(t[i]+dt/2,x[i]+k1/2,v[i]+l1/2) # k2 = dx *f(xn+dx/2,yn+k1/2,zn+l1/2)\n",
        "    l2 = dt*g(t[i]+dt/2,x[i]+k1/2,v[i]+l1/2) # l2 = dx *g(xn+dx/2,yn+k1/2,zn+l1/2)\n",
        "    k3 = dt*f(t[i]+dt/2,x[i]+k2/2,v[i]+l2/2) # k3 = dx *f(xn+dx/2,yn+k2/2,zn+l2/2)\n",
        "    l3 = dt*g(t[i]+dt/2,x[i]+k2/2,v[i]+l2/2) # l3 = dx *g(xn+dx/2,yn+k2/2,zn+l2/2)\n",
        "    k4 = dt*f(t[i]+dt,x[i]+k3,v[i]+l3) # k4 = dx * f(xn+dx,yn+k3,zn+l3)\n",
        "    l4 = dt*g(t[i]+dt,x[i]+k3,v[i]+l3) # l4 = dx * g(xn+dx,yn+k3,zn+l3)\n",
        "    x[i+1]= x[i]+(k1+2*k2+2*k3+k4)/6\n",
        "    v[i+1]= v[i]+(l1+2*l2+2*l3+l4)/6   \n",
        "    x2[i+1]= x2[i]+v2[i]*dt\n",
        "    v2[i+1]= v2[i]-(9.8+0.05/0.01*v2[i])*dt\n",
        "    ex[i+1] = exact(t[i+1])\n",
        "    save.write(f\"{t[i+1]:.4f}\\t{x[i+1]:.4f}\\t{v[i+1]:.4f}\\t{x2[i+1]:.4f}\\t{v2[i+1]:.4f}\\t{ex[i+1]:.4f}\\n\")    \n",
        "\n",
        "save.close()\n"
      ],
      "metadata": {
        "id": "rLTcJ75xKYey"
      },
      "execution_count": 143,
      "outputs": []
    },
    {
      "cell_type": "code",
      "source": [
        "import pandas as pd\n",
        "v_data = pd.read_csv(\"%s/velocity.txt\"%data, sep='\\t',header=None,engine=\"python\")\n",
        "\n",
        "plt.figure(figsize=(10,10))\n",
        "plt.plot(v_data[0],v_data[2],linestyle=\"dashed\",linewidth=5)\n",
        "plt.plot(v_data[0],v_data[4],linestyle=\"dotted\",linewidth=5)\n",
        "plt.plot(v_data[0],v_data[5])\n",
        "plt.xlim(0,1)\n",
        "plt.ylim(v_data[5].min(),v_data[5].max())"
      ],
      "metadata": {
        "colab": {
          "base_uri": "https://localhost:8080/",
          "height": 613
        },
        "id": "Z7r51BH1OIN7",
        "outputId": "eda087f9-92a9-486f-9cf8-0cc064a570bd"
      },
      "execution_count": 144,
      "outputs": [
        {
          "output_type": "execute_result",
          "data": {
            "text/plain": [
              "(-1.7965, 20.0)"
            ]
          },
          "metadata": {},
          "execution_count": 144
        },
        {
          "output_type": "display_data",
          "data": {
            "image/png": "[encoded data removed]",
            "text/plain": [
              "<Figure size 720x720 with 1 Axes>"
            ]
          },
          "metadata": {
            "needs_background": "light"
          }
        }
      ]
    },
    {
      "cell_type": "code",
      "source": [
        ""
      ],
      "metadata": {
        "id": "74LYHR3eWOJa"
      },
      "execution_count": null,
      "outputs": []
    }
  ]
}