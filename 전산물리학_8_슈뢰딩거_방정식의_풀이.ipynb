{
  "nbformat": 4,
  "nbformat_minor": 0,
  "metadata": {
    "colab": {
      "name": "전산물리학 8 - 슈뢰딩거 방정식의 풀이.ipynb",
      "provenance": [],
      "collapsed_sections": [],
      "authorship_tag": "ABX9TyP8qJbHbtTjWmHNFidWPUmL",
      "include_colab_link": true
    },
    "kernelspec": {
      "name": "python3",
      "display_name": "Python 3"
    },
    "language_info": {
      "name": "python"
    }
  },
  "cells": [
    {
      "cell_type": "markdown",
      "metadata": {
        "id": "view-in-github",
        "colab_type": "text"
      },
      "source": [
        "<a href=\"https://colab.research.google.com/github/Sirius724/Computational-Physics/blob/main/%EC%A0%84%EC%82%B0%EB%AC%BC%EB%A6%AC%ED%95%99_8_%EC%8A%88%EB%A2%B0%EB%94%A9%EA%B1%B0_%EB%B0%A9%EC%A0%95%EC%8B%9D%EC%9D%98_%ED%92%80%EC%9D%B4.ipynb\" target=\"_parent\"><img src=\"https://colab.research.google.com/assets/colab-badge.svg\" alt=\"Open In Colab\"/></a>"
      ]
    },
    {
      "cell_type": "code",
      "execution_count": null,
      "metadata": {
        "colab": {
          "base_uri": "https://localhost:8080/"
        },
        "id": "NkyMTLR7E-r_",
        "outputId": "6afc8f5e-8256-433c-bc94-cdc2f4a9aa2b"
      },
      "outputs": [
        {
          "output_type": "stream",
          "name": "stdout",
          "text": [
            "Drive already mounted at /content/drive; to attempt to forcibly remount, call drive.mount(\"/content/drive\", force_remount=True).\n"
          ]
        }
      ],
      "source": [
        "from google.colab import drive\n",
        "drive.mount('/content/drive')\n",
        "path = \"/content/drive/MyDrive/Colab Notebooks/전산 물리학\"\n",
        "data = \"/content/drive/MyDrive/Colab Notebooks/전산 물리학/data\"\n",
        "import os\n",
        "import numpy as np ; import math as mt\n",
        "import matplotlib\n",
        "import matplotlib.pyplot as plt\n",
        "import scipy as sp\n",
        "import pandas as pd\n",
        "%matplotlib inline\n",
        "\n",
        "if not os.path.isdir(data): \n",
        "    os.makedirs(data)\n"
      ]
    },
    {
      "cell_type": "markdown",
      "source": [
        "# Hydrogen atom - Schodinger Equation\n",
        "\n",
        "- reference : \"https://physicspython.wordpress.com/tag/schroedinger-equation/\""
      ],
      "metadata": {
        "id": "CsEOen7hdQiO"
      }
    },
    {
      "cell_type": "code",
      "source": [
        "import numpy as np\n",
        "from scipy import constants as const\n",
        "from scipy import sparse as sparse\n",
        "from scipy.sparse.linalg import eigs\n",
        "from matplotlib import pyplot as plt\n",
        " \n",
        "hbar = const.hbar \n",
        "e = const.e\n",
        "m_e = const.m_e\n",
        "pi = const.pi\n",
        "epsilon_0 = const.epsilon_0\n",
        "joul_to_eV = e\n",
        " \n",
        "def calculate_potential_term(r):\n",
        "    potential = e**2 / (4.0 * pi * epsilon_0) / r\n",
        "    potential_term = sparse.diags((potential))\n",
        "    return potential_term\n",
        " \n",
        "def calculate_angular_term(r):\n",
        "    angular = l * (l + 1) / r**2\n",
        "    angular_term = sparse.diags((angular))\n",
        "    return angular_term\n",
        " \n",
        "def calculate_laplace_three_point(r):\n",
        "    h = r[1] - r[0]\n",
        "     \n",
        "    main_diag = -2.0 / h**2 * np.ones(N)     \n",
        "    off_diag  =  1.0 / h**2 * np.ones(N - 1)\n",
        "    laplace_term = sparse.diags([main_diag, off_diag, off_diag], (0, -1, 1))\n",
        "    return laplace_term\n",
        "     \n",
        "def build_hamiltonian(r):\n",
        "    laplace_term =   calculate_laplace_three_point(r)\n",
        "    angular_term =   calculate_angular_term(r)\n",
        "    potential_term = calculate_potential_term(r)\n",
        "     \n",
        "    hamiltonian = -hbar**2 / (2.0 * m_e) * (laplace_term - angular_term) - potential_term\n",
        " \n",
        "    return hamiltonian\n",
        " \n",
        "def plot(r, densities, eigenvalues):\n",
        "    plt.xlabel('x ($\\\\mathrm{\\AA}$)')\n",
        "    plt.ylabel('probability density ($\\\\mathrm{\\AA}^{-1}$)')\n",
        "     \n",
        "    energies = ['E = {: >5.2f} eV'.format(eigenvalues[i].real / e) for i in range(3)]\n",
        "    plt.plot(r * 1e+10, densities[0], color='blue',  label=energies[0])\n",
        "    plt.plot(r * 1e+10, densities[1], color='green', label=energies[1])\n",
        "    plt.plot(r * 1e+10, densities[2], color='red',   label=energies[2])\n",
        "     \n",
        "    plt.legend()\n",
        "    plt.show()\n",
        "    return\n",
        " \n",
        "\"\"\" set up horizontal axis and hamiltonian \"\"\"\n",
        "N = 2000\n",
        "l = 0\n",
        "r = np.linspace(2e-9, 0.0, N, endpoint=False)\n",
        "hamiltonian = build_hamiltonian(r)\n",
        " \n",
        "\"\"\" solve eigenproblem \"\"\"\n",
        "number_of_eigenvalues = 30\n",
        "eigenvalues, eigenvectors = eigs(hamiltonian, k=number_of_eigenvalues, which='SM')\n",
        " \n",
        "\"\"\" sort eigenvalue and eigenvectors \"\"\"\n",
        "eigenvectors = np.array([x for _, x in sorted(zip(eigenvalues, eigenvectors.T), key=lambda pair: pair[0])])\n",
        "eigenvalues = np.sort(eigenvalues)\n",
        " \n",
        "\"\"\" compute probability density for each eigenvector \"\"\"\n",
        "densities = [np.absolute(eigenvectors[i, :])**2 for i in range(len(eigenvalues))]\n",
        " \n",
        "\"\"\" plot results \"\"\"\n",
        "plot(r, densities, eigenvalues)"
      ],
      "metadata": {
        "colab": {
          "base_uri": "https://localhost:8080/",
          "height": 284
        },
        "id": "JaEuaY1odcAs",
        "outputId": "407b54a0-cb5e-4aa2-f222-0a01f23b2e43"
      },
      "execution_count": null,
      "outputs": [
        {
          "output_type": "display_data",
          "data": {
            "image/png": "[encoded data removed]",
            "text/plain": [
              "<Figure size 432x288 with 1 Axes>"
            ]
          },
          "metadata": {
            "needs_background": "light"
          }
        }
      ]
    },
    {
      "cell_type": "code",
      "source": [
        ""
      ],
      "metadata": {
        "id": "pmHX-yTxgvD0"
      },
      "execution_count": null,
      "outputs": []
    }
  ]
}