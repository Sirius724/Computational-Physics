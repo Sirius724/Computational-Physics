{
  "nbformat": 4,
  "nbformat_minor": 0,
  "metadata": {
    "colab": {
      "name": "전산물리학 7 - 2차원 2계 미분방정식의 풀이.ipynb",
      "provenance": [],
      "collapsed_sections": [],
      "authorship_tag": "ABX9TyMF95JOD4YhS2EyzMiGTKjI",
      "include_colab_link": true
    },
    "kernelspec": {
      "name": "python3",
      "display_name": "Python 3"
    },
    "language_info": {
      "name": "python"
    }
  },
  "cells": [
    {
      "cell_type": "markdown",
      "metadata": {
        "id": "view-in-github",
        "colab_type": "text"
      },
      "source": [
        "<a href=\"https://colab.research.google.com/github/Sirius724/Computational-Physics/blob/main/%EC%A0%84%EC%82%B0%EB%AC%BC%EB%A6%AC%ED%95%99_7_2%EC%B0%A8%EC%9B%90_2%EA%B3%84_%EB%AF%B8%EB%B6%84%EB%B0%A9%EC%A0%95%EC%8B%9D%EC%9D%98_%ED%92%80%EC%9D%B4.ipynb\" target=\"_parent\"><img src=\"https://colab.research.google.com/assets/colab-badge.svg\" alt=\"Open In Colab\"/></a>"
      ]
    },
    {
      "cell_type": "code",
      "execution_count": 2,
      "metadata": {
        "colab": {
          "base_uri": "https://localhost:8080/"
        },
        "id": "NkyMTLR7E-r_",
        "outputId": "87f9eadf-0f94-43d9-9837-25fe1ca60b61"
      },
      "outputs": [
        {
          "output_type": "stream",
          "name": "stdout",
          "text": [
            "Mounted at /content/drive\n"
          ]
        }
      ],
      "source": [
        "from google.colab import drive\n",
        "drive.mount('/content/drive')\n",
        "path = \"/content/drive/MyDrive/Colab Notebooks/전산 물리학\"\n",
        "data = \"/content/drive/MyDrive/Colab Notebooks/전산 물리학/data\"\n",
        "import os\n",
        "import numpy as np ; import math as mt\n",
        "import matplotlib\n",
        "import matplotlib.pyplot as plt\n",
        "import pandas as pd\n",
        "%matplotlib inline\n",
        "\n",
        "if not os.path.isdir(data): \n",
        "    os.makedirs(data)\n"
      ]
    },
    {
      "cell_type": "markdown",
      "source": [
        "# 러더퍼드 산란 실험 시뮬레이션"
      ],
      "metadata": {
        "id": "RZeAFCRqYb3L"
      }
    },
    {
      "cell_type": "code",
      "source": [
        "# Use Euler method\n",
        "\n",
        "AMU = 1.66e-27 # Atomic mass unit\n",
        "CHARGE_unit = 1.6e-19  # charge unit\n",
        "Q_alpha = 2.*CHARGE_unit # alpha particle charge\n",
        "Q_target = 79.0*CHARGE_unit # target particle charge\n",
        "M_alpha = 4.0*AMU # alpha mass\n",
        "M_target = 197.0*AMU # target mass\n",
        "CK = 8.99e+9 # 쿨롱 상수\n",
        "dT = 1.0e-23 # time interval\n",
        "MAX_time = 4e-20\n",
        "V0 = 1.0e+7 # 알파입자의 초속도\n",
        "\n",
        "def distance(a,b,c,d):\n",
        "    dis = np.sqrt((a-c)**2+(b-d)**2)\n",
        "    return dis\n",
        "\n",
        "def acc(e,f,g,h):\n",
        "    ac = e*(f-g)/h**3\n",
        "    return ac\n",
        "\n",
        "class main():\n",
        "    def simulation(self):\n",
        "        save = open(f\"{data}/rutherford.txt\",\"w+\")\n",
        "        output_step = 0\n",
        "        cc = CK*Q_target*Q_alpha/(M_alpha) # 쿨롱 상수와 모든 전하량의 곱\n",
        "        rt = mt.pow(197, 0.33333)*1.0e-15  # \n",
        "        bb = rt/2.0\n",
        "        Y0 = np.arange(0,bb*20,2*bb)\n",
        "        ## 다양한 초기 ya 값 (impact parameter) 으로 궤적을 그려본다\n",
        "        for y in Y0:\n",
        "            xa = -2e-13\n",
        "            ya = y\n",
        "            vax = V0 # x방향 초속도\n",
        "            vay = 0  # y방향 초속도\n",
        "            xt = yt = vtx = vty = 0 # 표적의 속도는 정지상태\n",
        "            rr = distance(xa,ya,xt,yt) # 알파 입자와 과녁핵의 중심 간의 거리 계산\n",
        "            ax = acc(cc,xa,xt,rr) # 알파 입자의 가속도 중 x 성분\n",
        "            ay = acc(cc,ya,yt,rr) # 알파 입자의 가속도 중 y 성분\n",
        "            atx = -ax*M_alpha/M_target # 과녁핵의 가속도 중 x 성분\n",
        "            aty = -ay*M_alpha/M_target # 과녁핵의 가속도 중 y 성분\n",
        "\n",
        "            time = np.arange(0,MAX_time,dT)\n",
        "            for t in time : # Euler 방법으로 계산\n",
        "                xa = xa + dT*vax \n",
        "                ya = ya + dT*vay\n",
        "                \n",
        "                if output_step % 30 == 0 :\n",
        "                    save.write(f\"{xa}\\t{ya}\\n\")\n",
        "                \n",
        "                xt = xt + dT*vtx\n",
        "                yt = yt + dT*vty\n",
        "                rr = distance(xa,ya,xt,yt)\n",
        "\n",
        "                if rr>rt: # 알파 입자가 타겟 입자 밖에 있는 경우\n",
        "                    ax = acc(cc,xa,xt,rr)\n",
        "                    ay = acc(cc,ya,yt,rr)\n",
        "                else : # 알파 입자가 타겟 입자 안에 있는 경우\n",
        "                    ax = acc(cc,xa,xt,rt)\n",
        "                    ay = acc(cc,ya,yt,rt)\n",
        "                \n",
        "                atx = -ax*M_alpha/M_target\n",
        "                aty = -ay*M_alpha/M_target\n",
        "                vax = vax + dT*ax\n",
        "                vay = vay + dT*ay\n",
        "                vtx = vtx + dT*atx\n",
        "                vty = vty + dT*aty\n",
        "                \n",
        "                output_step +=1\n",
        "\n",
        "        save.close()\n",
        "\n",
        "ru = main()\n",
        "\n",
        "ru.simulation()\n",
        "\n"
      ],
      "metadata": {
        "id": "JF8sWn3wwqVw"
      },
      "execution_count": 70,
      "outputs": []
    },
    {
      "cell_type": "code",
      "source": [
        "position = pd.read_csv(f\"{data}/rutherford.txt\", sep='\\t',header=None,engine=\"python\")\n",
        "position1 = pd.read_csv(f\"{data}/rutherford_30AU.txt\", sep='\\t',header=None,engine=\"python\")\n",
        "plt.plot(position[0],position[1],\".\")\n",
        "plt.plot(position1[0],position1[1],\".\")"
      ],
      "metadata": {
        "colab": {
          "base_uri": "https://localhost:8080/",
          "height": 307
        },
        "id": "4HTe2vO6845E",
        "outputId": "70d57104-e70a-4f8a-864c-12e57b5057bc"
      },
      "execution_count": 73,
      "outputs": [
        {
          "output_type": "execute_result",
          "data": {
            "text/plain": [
              "[<matplotlib.lines.Line2D at 0x7ff7e2c37ad0>]"
            ]
          },
          "metadata": {},
          "execution_count": 73
        },
        {
          "output_type": "display_data",
          "data": {
            "image/png": "[encoded data removed]",
            "text/plain": [
              "<Figure size 432x288 with 1 Axes>"
            ]
          },
          "metadata": {
            "needs_background": "light"
          }
        }
      ]
    },
    {
      "cell_type": "markdown",
      "source": [
        "## 30배 크기의 금 원자 궤도"
      ],
      "metadata": {
        "id": "YODMi1EzYYG9"
      }
    },
    {
      "cell_type": "code",
      "source": [
        "AMU = 1.66e-27 # Atomic mass unit\n",
        "CHARGE_unit = 1.6e-19  # charge unit\n",
        "Q_alpha = 2.*CHARGE_unit # alpha particle charge\n",
        "Q_target = 79.0*CHARGE_unit # target particle charge\n",
        "M_alpha = 4.0*AMU # alpha mass\n",
        "M_target = 197.0*AMU # target mass\n",
        "CK = 8.99e+9 # 쿨롱 상수\n",
        "dT = 1.0e-23 # time interval\n",
        "MAX_time = 4.0e-19\n",
        "V0 = 1.0e+7 # 알파입자의 초속도\n",
        "\n",
        "def distance(a,b,c,d):\n",
        "    dis = np.sqrt((a-c)**2+(b-d)**2)\n",
        "    return dis\n",
        "\n",
        "def acc(e,f,g,h):\n",
        "    ac = e*(f-g)/h**3\n",
        "    return ac\n",
        "\n",
        "\n",
        "class main():\n",
        "    def simulation(self):\n",
        "        save = open(f\"{data}/rutherford_30AU.txt\",\"w+\")\n",
        "        output_step = 0\n",
        "        cc = CK*Q_target*Q_alpha/(M_alpha) # 쿨롱 상수와 모든 전하량의 곱\n",
        "        rt = 30*mt.pow(197, 0.33333)*1.0e-15  # \n",
        "        bb = rt/2.0/100\n",
        "        Y0 = np.arange(0,bb*20,2*bb)\n",
        "        ## 다양한 초기 ya 값 (impact parameter) 으로 궤적을 그려본다\n",
        "        for y in Y0:\n",
        "            xa = -2e-12\n",
        "            ya = y\n",
        "            vax = V0 # x방향 초속도\n",
        "            vay = 0  # y방향 초속도\n",
        "            xt = yt = vtx = vty = 0 # 표적의 속도는 정지상태\n",
        "            rr = distance(xa,ya,xt,yt) # 알파 입자와 과녁핵의 중심 간의 거리 계산\n",
        "            ax = acc(cc,xa,xt,rr) # 알파 입자의 가속도 중 x 성분\n",
        "            ay = acc(cc,ya,yt,rr) # 알파 입자의 가속도 중 y 성분\n",
        "            atx = -ax*M_alpha/M_target # 과녁핵의 가속도 중 x 성분\n",
        "            aty = -ay*M_alpha/M_target # 과녁핵의 가속도 중 y 성분\n",
        "\n",
        "            time = np.arange(0,MAX_time,dT)\n",
        "            for t in time : # Euler 방법으로 계산\n",
        "                xa = xa + dT*vax \n",
        "                ya = ya + dT*vay\n",
        "                \n",
        "                if output_step % 30 == 0 :\n",
        "                    save.write(f\"{xa}\\t{ya}\\n\")\n",
        "                \n",
        "                xt = xt + dT*vtx\n",
        "                yt = yt + dT*vty\n",
        "                rr = distance(xa,ya,xt,yt)\n",
        "\n",
        "                if rr>rt: # 알파 입자가 타겟 입자 밖에 있는 경우\n",
        "                    ax = acc(cc,xa,xt,rr)\n",
        "                    ay = acc(cc,ya,yt,rr)\n",
        "                else : # 알파 입자가 타겟 입자 안에 있는 경우\n",
        "                    ax = acc(cc,xa,xt,rt)\n",
        "                    ay = acc(cc,ya,yt,rt)\n",
        "                \n",
        "                atx = -ax*M_alpha/M_target\n",
        "                aty = -ay*M_alpha/M_target\n",
        "                vax = vax + dT*ax\n",
        "                vay = vay + dT*ay\n",
        "                vtx = vtx + dT*atx\n",
        "                vty = vty + dT*aty\n",
        "                \n",
        "                output_step +=1\n",
        "\n",
        "        save.close()\n",
        "\n",
        "ru = main()\n",
        "\n",
        "ru.simulation()\n",
        "\n"
      ],
      "metadata": {
        "id": "BWJHtBX_931q"
      },
      "execution_count": 69,
      "outputs": []
    },
    {
      "cell_type": "code",
      "source": [
        ""
      ],
      "metadata": {
        "id": "VwdfTGrUHxDi"
      },
      "execution_count": null,
      "outputs": []
    }
  ]
}